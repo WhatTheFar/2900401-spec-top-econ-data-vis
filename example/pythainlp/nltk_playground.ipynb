{
 "cells": [
  {
   "cell_type": "markdown",
   "metadata": {},
   "source": [
    "https://heartbeat.fritz.ai/introduction-to-text-wrangling-techniques-for-natural-language-processing-f98346cbeb5f\n",
    "https://www.datacamp.com/community/tutorials/stemming-lemmatization-python"
   ]
  },
  {
   "cell_type": "code",
   "execution_count": 2,
   "metadata": {},
   "outputs": [
    {
     "name": "stderr",
     "output_type": "stream",
     "text": [
      "[nltk_data] Downloading package wordnet to /Users/far/nltk_data...\n",
      "[nltk_data]   Package wordnet is already up-to-date!\n",
      "[nltk_data] Downloading package punkt to /Users/far/nltk_data...\n",
      "[nltk_data]   Package punkt is already up-to-date!\n",
      "[nltk_data] Downloading package stopwords to /Users/far/nltk_data...\n",
      "[nltk_data]   Package stopwords is already up-to-date!\n"
     ]
    },
    {
     "data": {
      "text/plain": [
       "True"
      ]
     },
     "execution_count": 2,
     "metadata": {},
     "output_type": "execute_result"
    }
   ],
   "source": [
    "import nltk\n",
    "nltk.download('wordnet')\n",
    "nltk.download('punkt')\n",
    "nltk.download('stopwords')"
   ]
  },
  {
   "cell_type": "code",
   "execution_count": 3,
   "metadata": {},
   "outputs": [],
   "source": [
    "from nltk.corpus import stopwords"
   ]
  },
  {
   "cell_type": "code",
   "execution_count": 4,
   "metadata": {},
   "outputs": [
    {
     "data": {
      "text/plain": [
       "['i',\n",
       " 'me',\n",
       " 'my',\n",
       " 'myself',\n",
       " 'we',\n",
       " 'our',\n",
       " 'ours',\n",
       " 'ourselves',\n",
       " 'you',\n",
       " \"you're\",\n",
       " \"you've\",\n",
       " \"you'll\",\n",
       " \"you'd\",\n",
       " 'your',\n",
       " 'yours',\n",
       " 'yourself',\n",
       " 'yourselves',\n",
       " 'he',\n",
       " 'him',\n",
       " 'his',\n",
       " 'himself',\n",
       " 'she',\n",
       " \"she's\",\n",
       " 'her',\n",
       " 'hers',\n",
       " 'herself',\n",
       " 'it',\n",
       " \"it's\",\n",
       " 'its',\n",
       " 'itself',\n",
       " 'they',\n",
       " 'them',\n",
       " 'their',\n",
       " 'theirs',\n",
       " 'themselves',\n",
       " 'what',\n",
       " 'which',\n",
       " 'who',\n",
       " 'whom',\n",
       " 'this',\n",
       " 'that',\n",
       " \"that'll\",\n",
       " 'these',\n",
       " 'those',\n",
       " 'am',\n",
       " 'is',\n",
       " 'are',\n",
       " 'was',\n",
       " 'were',\n",
       " 'be',\n",
       " 'been',\n",
       " 'being',\n",
       " 'have',\n",
       " 'has',\n",
       " 'had',\n",
       " 'having',\n",
       " 'do',\n",
       " 'does',\n",
       " 'did',\n",
       " 'doing',\n",
       " 'a',\n",
       " 'an',\n",
       " 'the',\n",
       " 'and',\n",
       " 'but',\n",
       " 'if',\n",
       " 'or',\n",
       " 'because',\n",
       " 'as',\n",
       " 'until',\n",
       " 'while',\n",
       " 'of',\n",
       " 'at',\n",
       " 'by',\n",
       " 'for',\n",
       " 'with',\n",
       " 'about',\n",
       " 'against',\n",
       " 'between',\n",
       " 'into',\n",
       " 'through',\n",
       " 'during',\n",
       " 'before',\n",
       " 'after',\n",
       " 'above',\n",
       " 'below',\n",
       " 'to',\n",
       " 'from',\n",
       " 'up',\n",
       " 'down',\n",
       " 'in',\n",
       " 'out',\n",
       " 'on',\n",
       " 'off',\n",
       " 'over',\n",
       " 'under',\n",
       " 'again',\n",
       " 'further',\n",
       " 'then',\n",
       " 'once',\n",
       " 'here',\n",
       " 'there',\n",
       " 'when',\n",
       " 'where',\n",
       " 'why',\n",
       " 'how',\n",
       " 'all',\n",
       " 'any',\n",
       " 'both',\n",
       " 'each',\n",
       " 'few',\n",
       " 'more',\n",
       " 'most',\n",
       " 'other',\n",
       " 'some',\n",
       " 'such',\n",
       " 'no',\n",
       " 'nor',\n",
       " 'not',\n",
       " 'only',\n",
       " 'own',\n",
       " 'same',\n",
       " 'so',\n",
       " 'than',\n",
       " 'too',\n",
       " 'very',\n",
       " 's',\n",
       " 't',\n",
       " 'can',\n",
       " 'will',\n",
       " 'just',\n",
       " 'don',\n",
       " \"don't\",\n",
       " 'should',\n",
       " \"should've\",\n",
       " 'now',\n",
       " 'd',\n",
       " 'll',\n",
       " 'm',\n",
       " 'o',\n",
       " 're',\n",
       " 've',\n",
       " 'y',\n",
       " 'ain',\n",
       " 'aren',\n",
       " \"aren't\",\n",
       " 'couldn',\n",
       " \"couldn't\",\n",
       " 'didn',\n",
       " \"didn't\",\n",
       " 'doesn',\n",
       " \"doesn't\",\n",
       " 'hadn',\n",
       " \"hadn't\",\n",
       " 'hasn',\n",
       " \"hasn't\",\n",
       " 'haven',\n",
       " \"haven't\",\n",
       " 'isn',\n",
       " \"isn't\",\n",
       " 'ma',\n",
       " 'mightn',\n",
       " \"mightn't\",\n",
       " 'mustn',\n",
       " \"mustn't\",\n",
       " 'needn',\n",
       " \"needn't\",\n",
       " 'shan',\n",
       " \"shan't\",\n",
       " 'shouldn',\n",
       " \"shouldn't\",\n",
       " 'wasn',\n",
       " \"wasn't\",\n",
       " 'weren',\n",
       " \"weren't\",\n",
       " 'won',\n",
       " \"won't\",\n",
       " 'wouldn',\n",
       " \"wouldn't\"]"
      ]
     },
     "execution_count": 4,
     "metadata": {},
     "output_type": "execute_result"
    }
   ],
   "source": [
    "stopwords_list = stopwords.words('english')\n",
    "stopwords_list"
   ]
  },
  {
   "cell_type": "code",
   "execution_count": 5,
   "metadata": {},
   "outputs": [
    {
     "data": {
      "text/plain": [
       "['this',\n",
       " 'is',\n",
       " 'a',\n",
       " 'long',\n",
       " 'paragraph',\n",
       " 'of',\n",
       " 'text',\n",
       " '.',\n",
       " 'somtimes',\n",
       " 'important',\n",
       " 'words',\n",
       " 'like',\n",
       " 'apple',\n",
       " 'and',\n",
       " 'machine',\n",
       " 'learning',\n",
       " 'show',\n",
       " 'up',\n",
       " '.',\n",
       " 'other',\n",
       " 'words',\n",
       " 'that',\n",
       " 'are',\n",
       " 'not',\n",
       " 'important',\n",
       " 'get',\n",
       " 'removed',\n",
       " '.']"
      ]
     },
     "execution_count": 5,
     "metadata": {},
     "output_type": "execute_result"
    }
   ],
   "source": [
    "from nltk.tokenize import word_tokenize, regexp_tokenize\n",
    "\n",
    "paragraph = \"This is a long paragraph of text. Somtimes important words like Apple and Machine Learning show up. Other words that are not important get removed.\"\n",
    "paragraph = paragraph.lower()\n",
    "\n",
    "words = word_tokenize(paragraph)\n",
    "words"
   ]
  },
  {
   "cell_type": "code",
   "execution_count": 6,
   "metadata": {},
   "outputs": [
    {
     "data": {
      "text/plain": [
       "['this',\n",
       " 'is',\n",
       " 'a',\n",
       " 'long',\n",
       " 'paragraph',\n",
       " 'of',\n",
       " 'text',\n",
       " 'somtimes',\n",
       " 'important',\n",
       " 'words',\n",
       " 'like',\n",
       " 'apple',\n",
       " 'and',\n",
       " 'machine',\n",
       " 'learning',\n",
       " 'show',\n",
       " 'up',\n",
       " 'other',\n",
       " 'words',\n",
       " 'that',\n",
       " 'are',\n",
       " 'not',\n",
       " 'important',\n",
       " 'get',\n",
       " 'removed']"
      ]
     },
     "execution_count": 6,
     "metadata": {},
     "output_type": "execute_result"
    }
   ],
   "source": [
    "words = regexp_tokenize(paragraph, pattern=\"\\w+\")\n",
    "words"
   ]
  },
  {
   "cell_type": "code",
   "execution_count": 8,
   "metadata": {},
   "outputs": [
    {
     "data": {
      "text/plain": [
       "['this is a long paragraph of text. somtimes important words like apple and machine learning show up. other words that are not important get removed.']"
      ]
     },
     "execution_count": 8,
     "metadata": {},
     "output_type": "execute_result"
    }
   ],
   "source": [
    "words = regexp_tokenize(paragraph, pattern=\"\\D+\")\n",
    "words"
   ]
  },
  {
   "cell_type": "code",
   "execution_count": 13,
   "metadata": {},
   "outputs": [
    {
     "name": "stdout",
     "output_type": "stream",
     "text": [
      "True\n",
      "False\n"
     ]
    }
   ],
   "source": [
    "print('12'.isnumeric())\n",
    "print('12.5'.isdecimal())"
   ]
  },
  {
   "cell_type": "code",
   "execution_count": 6,
   "metadata": {},
   "outputs": [
    {
     "name": "stdout",
     "output_type": "stream",
     "text": [
      "['long', 'paragraph', 'text', 'somtimes', 'important', 'words', 'like', 'apple', 'machine', 'learning', 'show', 'words', 'important', 'get', 'removed']\n"
     ]
    }
   ],
   "source": [
    "postPara = [word for word in words if word not in stopwords_list]\n",
    "# postPara = [word for word in words]\n",
    "print(postPara)"
   ]
  },
  {
   "cell_type": "code",
   "execution_count": 45,
   "metadata": {},
   "outputs": [],
   "source": [
    "from nltk.stem import WordNetLemmatizer, PorterStemmer, LancasterStemmer, SnowballStemmer\n",
    "import nltk.stem.wordnet\n",
    "\n",
    "wnl = WordNetLemmatizer()\n",
    "porter = PorterStemmer()\n",
    "lancaster = LancasterStemmer()\n",
    "snowball = SnowballStemmer(\"english\")"
   ]
  },
  {
   "cell_type": "code",
   "execution_count": 56,
   "metadata": {},
   "outputs": [
    {
     "name": "stdout",
     "output_type": "stream",
     "text": [
      "remove\n",
      "car\n",
      "be\n",
      "negative\n",
      "\n",
      "remove\n",
      "car\n",
      "am\n",
      "negative\n",
      "\n",
      "removes\n",
      "car\n",
      "am\n",
      "negatively\n",
      "\n",
      "neg\n"
     ]
    }
   ],
   "source": [
    "print(wnl.lemmatize(\"removes\", pos=\"v\"))\n",
    "print(wnl.lemmatize(\"car\", pos=\"v\"))\n",
    "print(wnl.lemmatize(\"am\", pos=\"v\"))\n",
    "print(wnl.lemmatize(\"negative\", pos=\"v\"))\n",
    "\n",
    "print()\n",
    "\n",
    "print(wnl.lemmatize(\"removes\", pos=\"n\"))\n",
    "print(wnl.lemmatize(\"car\", pos=\"n\"))\n",
    "print(wnl.lemmatize(\"am\", pos=\"n\"))\n",
    "print(wnl.lemmatize(\"negative\", pos=\"n\"))\n",
    "\n",
    "print()\n",
    "\n",
    "print(wnl.lemmatize(\"removes\", pos=\"a\"))\n",
    "print(wnl.lemmatize(\"car\", pos=\"a\"))\n",
    "print(wnl.lemmatize(\"am\", pos=\"a\"))\n",
    "print(wnl.lemmatize(\"negatively\", pos='a'))\n",
    "\n",
    "print()\n",
    "\n",
    "print(porter.stem('negative'))"
   ]
  },
  {
   "cell_type": "code",
   "execution_count": 20,
   "metadata": {},
   "outputs": [
    {
     "data": {
      "text/plain": [
       "['long',\n",
       " 'paragraph',\n",
       " 'text',\n",
       " 'somtimes',\n",
       " 'important',\n",
       " 'word',\n",
       " 'like',\n",
       " 'apple',\n",
       " 'machine',\n",
       " 'learn',\n",
       " 'show',\n",
       " 'word',\n",
       " 'important',\n",
       " 'get',\n",
       " 'remove']"
      ]
     },
     "execution_count": 20,
     "metadata": {},
     "output_type": "execute_result"
    }
   ],
   "source": [
    "lemmatized_para = [wnl.lemmatize(word, pos=\"v\") for word in postPara]\n",
    "lemmatized_para"
   ]
  },
  {
   "cell_type": "code",
   "execution_count": 32,
   "metadata": {},
   "outputs": [
    {
     "data": {
      "text/plain": [
       "['long',\n",
       " 'paragraph',\n",
       " 'text',\n",
       " 'somtimes',\n",
       " 'important',\n",
       " 'words',\n",
       " 'like',\n",
       " 'apple',\n",
       " 'machine',\n",
       " 'learning',\n",
       " 'show',\n",
       " 'words',\n",
       " 'important',\n",
       " 'get',\n",
       " 'removed']"
      ]
     },
     "execution_count": 32,
     "metadata": {},
     "output_type": "execute_result"
    }
   ],
   "source": [
    "lemmatized_para = [wnl.lemmatize(word, pos=\"a\") for word in postPara]\n",
    "lemmatized_para"
   ]
  },
  {
   "cell_type": "code",
   "execution_count": 9,
   "metadata": {},
   "outputs": [
    {
     "data": {
      "text/plain": [
       "['long',\n",
       " 'paragraph',\n",
       " 'text',\n",
       " 'somtim',\n",
       " 'import',\n",
       " 'word',\n",
       " 'like',\n",
       " 'appl',\n",
       " 'machin',\n",
       " 'learn',\n",
       " 'show',\n",
       " 'word',\n",
       " 'import',\n",
       " 'get',\n",
       " 'remov']"
      ]
     },
     "execution_count": 9,
     "metadata": {},
     "output_type": "execute_result"
    }
   ],
   "source": [
    "lemmatized_para = [porter.stem(word) for word in postPara]\n",
    "lemmatized_para"
   ]
  },
  {
   "cell_type": "code",
   "execution_count": 10,
   "metadata": {},
   "outputs": [
    {
     "data": {
      "text/plain": [
       "['long',\n",
       " 'paragraph',\n",
       " 'text',\n",
       " 'somtim',\n",
       " 'import',\n",
       " 'word',\n",
       " 'lik',\n",
       " 'appl',\n",
       " 'machin',\n",
       " 'learn',\n",
       " 'show',\n",
       " 'word',\n",
       " 'import',\n",
       " 'get',\n",
       " 'remov']"
      ]
     },
     "execution_count": 10,
     "metadata": {},
     "output_type": "execute_result"
    }
   ],
   "source": [
    "lemmatized_para = [lancaster.stem(word) for word in postPara]\n",
    "lemmatized_para"
   ]
  },
  {
   "cell_type": "code",
   "execution_count": 11,
   "metadata": {},
   "outputs": [
    {
     "data": {
      "text/plain": [
       "['long',\n",
       " 'paragraph',\n",
       " 'text',\n",
       " 'somtim',\n",
       " 'import',\n",
       " 'word',\n",
       " 'like',\n",
       " 'appl',\n",
       " 'machin',\n",
       " 'learn',\n",
       " 'show',\n",
       " 'word',\n",
       " 'import',\n",
       " 'get',\n",
       " 'remov']"
      ]
     },
     "execution_count": 11,
     "metadata": {},
     "output_type": "execute_result"
    }
   ],
   "source": [
    "lemmatized_para = [snowball.stem(word) for word in postPara]\n",
    "lemmatized_para"
   ]
  },
  {
   "cell_type": "code",
   "execution_count": null,
   "metadata": {},
   "outputs": [],
   "source": []
  }
 ],
 "metadata": {
  "kernelspec": {
   "display_name": "Python 3",
   "language": "python",
   "name": "python3"
  },
  "language_info": {
   "codemirror_mode": {
    "name": "ipython",
    "version": 3
   },
   "file_extension": ".py",
   "mimetype": "text/x-python",
   "name": "python",
   "nbconvert_exporter": "python",
   "pygments_lexer": "ipython3",
   "version": "3.7.6"
  },
  "toc": {
   "base_numbering": 1,
   "nav_menu": {},
   "number_sections": true,
   "sideBar": true,
   "skip_h1_title": false,
   "title_cell": "Table of Contents",
   "title_sidebar": "Contents",
   "toc_cell": false,
   "toc_position": {},
   "toc_section_display": true,
   "toc_window_display": false
  }
 },
 "nbformat": 4,
 "nbformat_minor": 4
}
